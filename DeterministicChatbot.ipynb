{
 "cells": [
  {
   "cell_type": "code",
   "execution_count": 1,
   "metadata": {},
   "outputs": [],
   "source": [
    "faq_database = {\n",
    "    \"What is your return policy?\": \"Our return policy allows customers to return products within 30 days of purchase. Items must be in their original condition and packaging. To initiate a return, visit our return portal and provide your order number and email address.\",\n",
    "\n",
    "    \"How do I track my order?\": \"You can track your order by using the tracking number provided in the shipment confirmation email. Alternatively, you can log in to your account and go to the 'Order History' section to find the tracking link.\",\n",
    "\n",
    "    \"What payment methods do you accept?\": \"We accept all major credit cards (Visa, MasterCard, American Express), PayPal, and Apple Pay. For corporate accounts, we also offer invoicing options. Please contact support for more information on setting up a corporate account.\",\n",
    "\n",
    "    \"Can I change or cancel my order after it’s been placed?\": \"Once an order has been placed, we are unable to modify it directly. However, you can cancel your order within the first hour of placing it through the 'My Orders' section of your account. After that, you’ll need to wait for the order to be delivered and then initiate a return.\",\n",
    "\n",
    "    \"What are your shipping options?\": \"We offer standard, expedited, and overnight shipping. Standard shipping takes 5-7 business days, while expedited shipping takes 2-3 business days. Overnight shipping ensures delivery by the next business day. International shipping options are also available, with delivery times varying by destination.\",\n",
    "\n",
    "    \"How do I reset my account password?\": \"To reset your password, go to the login page and click on 'Forgot Password'. You will receive an email with instructions to reset your password. If you don't see the email, check your spam folder or contact customer support for help.\",\n",
    "\n",
    "    \"Do you ship internationally?\": \"Yes, we ship to select international destinations. International shipping costs and delivery times vary depending on the destination. You can calculate the shipping costs at checkout after providing your address.\",\n",
    "\n",
    "    \"What do I do if I receive a damaged or defective product?\": \"If you receive a damaged or defective product, please contact our customer support within 48 hours of receiving the item. We will provide instructions on how to return the product or arrange for a replacement. Make sure to include photos of the damaged item and packaging for faster processing.\",\n",
    "\n",
    "    \"How do I contact customer support?\": \"You can contact our customer support via email at support@ourcompany.com, or by calling our support line at 1-800-123-4567 during business hours (9 AM to 5 PM, Monday to Friday). We also offer live chat support on our website.\",\n",
    "\n",
    "    \"Can I use multiple discount codes on a single order?\": \"No, our system only allows one discount code per order. However, you can apply store credit or a gift card in addition to a discount code at checkout.\",\n",
    "\n",
    "    \"How do I update my shipping address after placing an order?\": \"If your order has not yet been processed, you can update your shipping address by logging into your account and navigating to the 'My Orders' section. If the order has already been processed or shipped, you will need to contact customer support to discuss possible options.\",\n",
    "\n",
    "    \"What should I do if I never received my order?\": \"If your order has not arrived by the estimated delivery date, first check the tracking information. If the tracking shows the item was delivered but you didn't receive it, contact customer support so we can investigate and resolve the issue.\",\n",
    "\n",
    "    \"Do you offer gift wrapping?\": \"Yes, we offer gift wrapping for an additional fee. You can select the gift wrapping option at checkout, and you can also include a personalized message with the gift.\",\n",
    "\n",
    "    \"Can I return a product after 30 days?\": \"Unfortunately, returns are only accepted within 30 days of the purchase date. If you have extenuating circumstances, please contact customer support to discuss possible exceptions on a case-by-case basis.\",\n",
    "\n",
    "    \"What are your business hours?\": \"Our customer support team is available from 9 AM to 5 PM, Monday through Friday, excluding holidays. Our website is available for orders 24/7.\",\n",
    "\n",
    "    \"How do I subscribe to your newsletter?\": \"To subscribe to our newsletter, scroll to the bottom of our homepage and enter your email in the subscription box. You’ll receive exclusive offers, product updates, and company news directly to your inbox.\",\n",
    "\n",
    "    \"What is your warranty policy?\": \"We offer a one-year warranty on all our products. The warranty covers manufacturing defects but does not cover damage caused by misuse, accidents, or normal wear and tear. To file a warranty claim, contact our customer support team with your order details and a description of the issue.\",\n",
    "\n",
    "    \"How can I become a reseller of your products?\": \"We welcome reseller partnerships! If you're interested in becoming a reseller, please contact our sales team at sales@ourcompany.com with details about your business, and we’ll get back to you with more information.\",\n",
    "\n",
    "    \"Do you offer student discounts?\": \"Yes, we offer a 10% discount for students. To get the discount, sign up with your valid student email, and we will verify your status. After verification, you will receive a unique discount code to use at checkout.\",\n",
    "\n",
    "    \"Can I expedite the shipping of my order?\": \"Yes, you can select expedited or overnight shipping at checkout. Expedited shipping typically takes 2-3 business days, while overnight shipping ensures delivery by the next business day. Please note that expedited shipping costs more than standard shipping.\"\n",
    "}"
   ]
  },
  {
   "cell_type": "code",
   "execution_count": 2,
   "metadata": {},
   "outputs": [],
   "source": [
    "def deterministic_chatbot(question):\n",
    "    return faq_database.get(question, \"Sorry, I don't know that yet.\")"
   ]
  },
  {
   "cell_type": "code",
   "execution_count": 3,
   "metadata": {},
   "outputs": [
    {
     "name": "stdout",
     "output_type": "stream",
     "text": [
      "Sorry, I don't know that yet.\n"
     ]
    }
   ],
   "source": [
    "print(deterministic_chatbot(\"How do I track my order\"))"
   ]
  },
  {
   "cell_type": "code",
   "execution_count": 4,
   "metadata": {},
   "outputs": [
    {
     "name": "stdout",
     "output_type": "stream",
     "text": [
      "We offer standard, expedited, and overnight shipping. Standard shipping takes 5-7 business days, while expedited shipping takes 2-3 business days. Overnight shipping ensures delivery by the next business day. International shipping options are also available, with delivery times varying by destination.\n"
     ]
    }
   ],
   "source": [
    "print(deterministic_chatbot(\"What are your shipping options?\"))"
   ]
  }
 ],
 "metadata": {
  "kernelspec": {
   "display_name": "Python 3",
   "language": "python",
   "name": "python3"
  },
  "language_info": {
   "codemirror_mode": {
    "name": "ipython",
    "version": 3
   },
   "file_extension": ".py",
   "mimetype": "text/x-python",
   "name": "python",
   "nbconvert_exporter": "python",
   "pygments_lexer": "ipython3",
   "version": "3.10.13"
  }
 },
 "nbformat": 4,
 "nbformat_minor": 2
}
